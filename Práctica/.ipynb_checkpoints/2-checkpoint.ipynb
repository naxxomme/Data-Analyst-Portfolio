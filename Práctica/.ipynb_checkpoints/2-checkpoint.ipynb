{
 "cells": [
  {
   "cell_type": "markdown",
   "id": "608328dd-e189-4545-86bf-a46cb42ca926",
   "metadata": {},
   "source": [
    "# EJERCICIO 1:\n",
    "Escribe un programa que pida una edad y diga si la persona puede votar (edad>=18)"
   ]
  },
  {
   "cell_type": "code",
   "execution_count": 2,
   "id": "8e879f04-0fb3-4072-b4ec-b42551ade666",
   "metadata": {},
   "outputs": [
    {
     "name": "stdin",
     "output_type": "stream",
     "text": [
      "Introduce tu edad: 18\n"
     ]
    },
    {
     "name": "stdout",
     "output_type": "stream",
     "text": [
      "Perfecto. Tienes edad para votar.\n"
     ]
    }
   ],
   "source": [
    "edad = int(input(f'Introduce tu edad:'))\n",
    "\n",
    "if edad >= 18:\n",
    "    print(f'Perfecto. Tienes edad para votar.')\n",
    "else:\n",
    "    print(f'Aún no tienes edad para votar.')"
   ]
  },
  {
   "cell_type": "markdown",
   "id": "2169cb3d-1e3a-46d2-879c-cb2a25c72f91",
   "metadata": {},
   "source": [
    "# EJERCICIO 2:\n",
    "Dada una lista de números, imprime sólo los pares."
   ]
  },
  {
   "cell_type": "code",
   "execution_count": 3,
   "id": "c682e637-a853-4311-b646-c3fb0fddb868",
   "metadata": {},
   "outputs": [
    {
     "name": "stdout",
     "output_type": "stream",
     "text": [
      "0\n",
      "2\n",
      "4\n",
      "6\n",
      "8\n",
      "10\n",
      "12\n",
      "14\n",
      "16\n",
      "18\n"
     ]
    }
   ],
   "source": [
    "numeros = list(range(20))\n",
    "\n",
    "for num in numeros: \n",
    "    if num % 2 == 0: \n",
    "        print(num)"
   ]
  },
  {
   "cell_type": "markdown",
   "id": "d60a26ff-7531-4d27-96e3-ba98423bc643",
   "metadata": {},
   "source": [
    "# EJERCICIO 3:\n",
    "Crea un bucle `for` que imprima los números del 1 al 10"
   ]
  },
  {
   "cell_type": "code",
   "execution_count": 4,
   "id": "230c3248-3669-4eff-9ac1-d89540d94afb",
   "metadata": {},
   "outputs": [
    {
     "name": "stdout",
     "output_type": "stream",
     "text": [
      "1\n",
      "2\n",
      "3\n",
      "4\n",
      "5\n",
      "6\n",
      "7\n",
      "8\n",
      "9\n",
      "10\n"
     ]
    }
   ],
   "source": [
    "for numero in range(1,11):\n",
    "    print(numero)"
   ]
  },
  {
   "cell_type": "markdown",
   "id": "ff9995c4-d092-4b73-afb2-b002abfcfc4e",
   "metadata": {},
   "source": [
    "# EJERCICIO 4:\n",
    "Usa `while` para sumar los números del 1 al 100"
   ]
  },
  {
   "cell_type": "code",
   "execution_count": 5,
   "id": "9b5e4c97-4669-4d3d-bb53-3544c435ebdd",
   "metadata": {},
   "outputs": [
    {
     "name": "stdout",
     "output_type": "stream",
     "text": [
      "La suma de los números del 1 al 100 es: 5050\n"
     ]
    }
   ],
   "source": [
    "suma = 0\n",
    "num = 1\n",
    "\n",
    "while num <= 100:\n",
    "    suma += num\n",
    "    num += 1\n",
    "print(f'La suma de los números del 1 al 100 es: {suma}')"
   ]
  },
  {
   "cell_type": "markdown",
   "id": "5006d95f-4da5-4bf9-94d0-97c309780a87",
   "metadata": {},
   "source": [
    "# EJERCICIO 5:\n",
    "Crea una lista de nombres y usa `for` para saludar a cada uno."
   ]
  },
  {
   "cell_type": "code",
   "execution_count": 7,
   "id": "5a029833-c073-40db-9d08-6a8d11c8fc93",
   "metadata": {},
   "outputs": [
    {
     "name": "stdout",
     "output_type": "stream",
     "text": [
      "¡Hola, Ana!\n",
      "¡Hola, Carlos!\n",
      "¡Hola, Lucía!\n",
      "¡Hola, Diego!\n"
     ]
    }
   ],
   "source": [
    "nombres = [\"Ana\", \"Carlos\", \"Lucía\", \"Diego\"]\n",
    "\n",
    "for nombre in nombres:\n",
    "    print(f'¡Hola, {nombre}!')"
   ]
  },
  {
   "cell_type": "markdown",
   "id": "52c14d1e-d845-4c83-8d0b-c303b8681855",
   "metadata": {},
   "source": [
    "# EJERCICIO 6:\n",
    "Usa `continue` para saltar los múltiplos de 3 entre 1 y 20"
   ]
  },
  {
   "cell_type": "code",
   "execution_count": 8,
   "id": "debde59c-7b73-482d-a949-3040947bdc6b",
   "metadata": {},
   "outputs": [
    {
     "name": "stdout",
     "output_type": "stream",
     "text": [
      "1\n",
      "2\n",
      "4\n",
      "5\n",
      "7\n",
      "8\n",
      "10\n",
      "11\n",
      "13\n",
      "14\n",
      "16\n",
      "17\n",
      "19\n",
      "20\n"
     ]
    }
   ],
   "source": [
    "for numero in range (1,21):\n",
    "    if numero % 3 == 0:\n",
    "        continue\n",
    "    print(numero)"
   ]
  },
  {
   "cell_type": "code",
   "execution_count": null,
   "id": "57eeb359-7cc9-44cf-8fcb-f63fbe56227f",
   "metadata": {},
   "outputs": [],
   "source": []
  }
 ],
 "metadata": {
  "kernelspec": {
   "display_name": "Python [conda env:base] *",
   "language": "python",
   "name": "conda-base-py"
  },
  "language_info": {
   "codemirror_mode": {
    "name": "ipython",
    "version": 3
   },
   "file_extension": ".py",
   "mimetype": "text/x-python",
   "name": "python",
   "nbconvert_exporter": "python",
   "pygments_lexer": "ipython3",
   "version": "3.12.7"
  }
 },
 "nbformat": 4,
 "nbformat_minor": 5
}
