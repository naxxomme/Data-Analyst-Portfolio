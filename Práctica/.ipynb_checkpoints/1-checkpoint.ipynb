{
 "cells": [
  {
   "cell_type": "markdown",
   "id": "a143e152-e0b8-472c-bccf-8cda2efce45c",
   "metadata": {},
   "source": [
    "#### EJERCICIO 1:\n",
    "Crea una variable `nombre` que contenga tu nombre y muéstrala con `print()`"
   ]
  },
  {
   "cell_type": "code",
   "execution_count": 1,
   "id": "b73dc1b7-f6f5-4cc7-9ee5-09af28b29ea1",
   "metadata": {},
   "outputs": [
    {
     "name": "stdout",
     "output_type": "stream",
     "text": [
      "Mi nombre es Adrian.\n"
     ]
    }
   ],
   "source": [
    "nombre = \"Adrian\"\n",
    "\n",
    "print(f'Mi nombre es {nombre}.')"
   ]
  },
  {
   "cell_type": "markdown",
   "id": "c0beefef-0228-4712-a3d4-1b16b3ecdc86",
   "metadata": {},
   "source": [
    "#### EJERCICIO 2:\n",
    "Declara dos variables numéricas y realiza suma, resta, multiplicación y división."
   ]
  },
  {
   "cell_type": "code",
   "execution_count": 2,
   "id": "97dd1417-30f9-4d96-aec7-7edcc4c8f6e5",
   "metadata": {},
   "outputs": [
    {
     "name": "stdout",
     "output_type": "stream",
     "text": [
      "La suma de 8 + 4 es: 12\n",
      "La resta de 8 - 4 es: 4\n",
      "La multiplicación de 8 * 4 es: 32\n",
      "La división de 8 / 4 es: 2.0\n"
     ]
    }
   ],
   "source": [
    "num = 8\n",
    "num2 = 4\n",
    "\n",
    "print(f'La suma de {num} + {num2} es: {num+num2}')\n",
    "print(f'La resta de {num} - {num2} es: {num-num2}')\n",
    "print(f'La multiplicación de {num} * {num2} es: {num*num2}')\n",
    "print(f'La división de {num} / {num2} es: {num/num2}')"
   ]
  },
  {
   "cell_type": "markdown",
   "id": "a933b080-ab3c-4142-bd2f-3acb9653cea6",
   "metadata": {},
   "source": [
    "#### EJERCICIO 3:\n",
    "Crea una lista con los nombres de 5 frutas y muestra la segunda fruta."
   ]
  },
  {
   "cell_type": "code",
   "execution_count": 3,
   "id": "b8f1f1dd-d785-4ac3-829e-1b531fce6b44",
   "metadata": {},
   "outputs": [
    {
     "data": {
      "text/plain": [
       "'Pera'"
      ]
     },
     "execution_count": 3,
     "metadata": {},
     "output_type": "execute_result"
    }
   ],
   "source": [
    "frutas = [\"Manzana\", \"Pera\", \"Fresas\", \"Melón\", \"Uvas\"]\n",
    "frutas[1]"
   ]
  },
  {
   "cell_type": "markdown",
   "id": "d8055e54-e8d6-468c-ab30-a496cb906103",
   "metadata": {},
   "source": [
    "#### EJERCICIO 4:\n",
    "Añade una fruta nueva al final de la lista y muestra toda la lista."
   ]
  },
  {
   "cell_type": "code",
   "execution_count": 5,
   "id": "1da5205a-885a-4294-a53e-b99ef81d803a",
   "metadata": {},
   "outputs": [
    {
     "data": {
      "text/plain": [
       "['Manzana', 'Pera', 'Fresas', 'Melón', 'Uvas', 'Sandía']"
      ]
     },
     "execution_count": 5,
     "metadata": {},
     "output_type": "execute_result"
    }
   ],
   "source": [
    "frutas.append(\"Sandía\")\n",
    "frutas"
   ]
  },
  {
   "cell_type": "markdown",
   "id": "e6de3c56-968a-4847-81c4-e2754a059909",
   "metadata": {},
   "source": [
    "#### EJERCICIO 5:\n",
    "Elimina la primera fruta de la lista y muestra el resultado."
   ]
  },
  {
   "cell_type": "code",
   "execution_count": 6,
   "id": "420ce66a-db54-48dd-8ea4-d4c9e321b175",
   "metadata": {},
   "outputs": [
    {
     "data": {
      "text/plain": [
       "['Pera', 'Fresas', 'Melón', 'Uvas', 'Sandía']"
      ]
     },
     "execution_count": 6,
     "metadata": {},
     "output_type": "execute_result"
    }
   ],
   "source": [
    "frutas.pop(0)\n",
    "frutas"
   ]
  },
  {
   "cell_type": "code",
   "execution_count": null,
   "id": "662398e7-c9f6-4fb8-8a60-d65fb7006b30",
   "metadata": {},
   "outputs": [],
   "source": []
  }
 ],
 "metadata": {
  "kernelspec": {
   "display_name": "Python [conda env:base] *",
   "language": "python",
   "name": "conda-base-py"
  },
  "language_info": {
   "codemirror_mode": {
    "name": "ipython",
    "version": 3
   },
   "file_extension": ".py",
   "mimetype": "text/x-python",
   "name": "python",
   "nbconvert_exporter": "python",
   "pygments_lexer": "ipython3",
   "version": "3.12.7"
  }
 },
 "nbformat": 4,
 "nbformat_minor": 5
}
