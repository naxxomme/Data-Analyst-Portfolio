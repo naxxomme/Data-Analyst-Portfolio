{
 "cells": [
  {
   "cell_type": "markdown",
   "id": "c77792f7-ab25-44ca-84b2-420a6dcc6238",
   "metadata": {},
   "source": [
    "# MINIPROYECTO 1:\n",
    "Simula un pequeño sistema de login:<br>\n",
    "- Crea un usuario y una contraseña por defecto (usuario=\"admin\", clave=\"1234\")\n",
    "- Pide al usuario que introduzca su nombre y contraseña.\n",
    "- Permite hasta tres intentos usando un bucle while.\n",
    "- Si acierta muestra \"Acceso concedido\", si no, \"Cuenta bloqueada\""
   ]
  },
  {
   "cell_type": "code",
   "execution_count": 9,
   "id": "0a168f1c-d597-4306-8994-ce60b2420841",
   "metadata": {},
   "outputs": [
    {
     "name": "stdin",
     "output_type": "stream",
     "text": [
      "Introduce el usuario: admin\n",
      "Introduce la contraseña: 123123\n"
     ]
    },
    {
     "name": "stdout",
     "output_type": "stream",
     "text": [
      "Usuario o contraseña incorrectos. Quedan 2 intentos.\n"
     ]
    },
    {
     "name": "stdin",
     "output_type": "stream",
     "text": [
      "Introduce el usuario: admin\n",
      "Introduce la contraseña: 123123\n"
     ]
    },
    {
     "name": "stdout",
     "output_type": "stream",
     "text": [
      "Usuario o contraseña incorrectos. Quedan 1 intentos.\n"
     ]
    },
    {
     "name": "stdin",
     "output_type": "stream",
     "text": [
      "Introduce el usuario: ada\n",
      "Introduce la contraseña: 123123\n"
     ]
    },
    {
     "name": "stdout",
     "output_type": "stream",
     "text": [
      "Usuario o contraseña incorrectos. Quedan 0 intentos.\n",
      "Cuenta bloqueada.\n"
     ]
    }
   ],
   "source": [
    "user_correcto = \"admin\"\n",
    "clave_correcta = \"1234\"\n",
    "intentos = 0\n",
    "max_intentos = 3\n",
    "\n",
    "while intentos < max_intentos:\n",
    "    user = input(f'Introduce el usuario:')\n",
    "    clave = input(f'Introduce la contraseña:')\n",
    "    if user == user_correcto and clave == clave_correcta:\n",
    "        print(\"Acceso concedido.\")\n",
    "        break\n",
    "    else:\n",
    "        intentos += 1\n",
    "        print(f'Usuario o contraseña incorrectos. Quedan {max_intentos - intentos} intentos.')\n",
    "\n",
    "if intentos == max_intentos:\n",
    "    print(f'Cuenta bloqueada.')"
   ]
  },
  {
   "cell_type": "code",
   "execution_count": null,
   "id": "bcade56f-e94e-4c65-9eba-8161049529e7",
   "metadata": {},
   "outputs": [],
   "source": []
  }
 ],
 "metadata": {
  "kernelspec": {
   "display_name": "Python [conda env:base] *",
   "language": "python",
   "name": "conda-base-py"
  },
  "language_info": {
   "codemirror_mode": {
    "name": "ipython",
    "version": 3
   },
   "file_extension": ".py",
   "mimetype": "text/x-python",
   "name": "python",
   "nbconvert_exporter": "python",
   "pygments_lexer": "ipython3",
   "version": "3.12.7"
  }
 },
 "nbformat": 4,
 "nbformat_minor": 5
}
