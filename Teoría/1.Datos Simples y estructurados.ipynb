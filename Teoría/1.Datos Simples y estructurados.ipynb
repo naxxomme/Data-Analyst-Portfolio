{
 "cells": [
  {
   "cell_type": "markdown",
   "id": "5d8041c5-ba73-42dc-92e8-e3f1a9852bab",
   "metadata": {},
   "source": [
    "# DATOS SIMPLES Y ESTRUCTURADOS:"
   ]
  },
  {
   "cell_type": "markdown",
   "id": "5bc64212-2042-4667-b8b0-89a68d6693ea",
   "metadata": {},
   "source": [
    "Los tipos de datos simples son los siguientes:<br>\n",
    "- `Texto (str)`: Debe ir entre comillas.\n",
    "- `Numéricos`: pueden ser enteros (int), flotantes (float) o complejos.\n",
    "- `Booleanos`: representan valores lógicos (True o False)"
   ]
  },
  {
   "cell_type": "code",
   "execution_count": 1,
   "id": "23fd7ae3-9dd1-433e-b495-4b86c4283fff",
   "metadata": {},
   "outputs": [],
   "source": [
    "nombre = \"Python\"\n",
    "edad = 25\n",
    "altura = 1.73\n",
    "es_estudiante = True"
   ]
  },
  {
   "cell_type": "code",
   "execution_count": 3,
   "id": "1a96a82e-cdc6-4370-ad03-0ea22bea2a66",
   "metadata": {},
   "outputs": [
    {
     "name": "stdout",
     "output_type": "stream",
     "text": [
      "<class 'str'>\n",
      "<class 'int'>\n",
      "<class 'float'>\n",
      "<class 'bool'>\n"
     ]
    }
   ],
   "source": [
    "print(type(nombre))\n",
    "print(type(edad))\n",
    "print(type(altura))\n",
    "print(type(es_estudiante))"
   ]
  },
  {
   "cell_type": "markdown",
   "id": "6d868433-2bfc-4228-b486-d14a9233d519",
   "metadata": {},
   "source": [
    "Las variables pueden cambiar su tipo y contenido sin problema"
   ]
  },
  {
   "cell_type": "code",
   "execution_count": 4,
   "id": "16192a82-c95e-4856-8cb0-d890f9f2f068",
   "metadata": {},
   "outputs": [
    {
     "name": "stdout",
     "output_type": "stream",
     "text": [
      "<class 'str'>\n"
     ]
    }
   ],
   "source": [
    "edad = \"Veinticinco\"\n",
    "print(type(edad))"
   ]
  },
  {
   "cell_type": "markdown",
   "id": "13cf900e-80f4-497f-889f-d85095c4c76b",
   "metadata": {},
   "source": [
    "### LISTAS:"
   ]
  },
  {
   "cell_type": "markdown",
   "id": "a8ea58a4-2973-4820-b682-438357f36425",
   "metadata": {},
   "source": [
    "Una lista es una colección ordenada y mutable de elementos. Puede contener datos de diferentes tipos."
   ]
  },
  {
   "cell_type": "code",
   "execution_count": 5,
   "id": "805a98ce-175a-4fdd-8ebb-13e0acd2a10e",
   "metadata": {},
   "outputs": [],
   "source": [
    "estudiantes = [\"Ana\", \"Luis\", \"Carlos\"]\n",
    "\n",
    "notas = [85,90,78]"
   ]
  },
  {
   "cell_type": "markdown",
   "id": "1ca91bcf-8aea-4b9a-b3bf-5e63cebd27f9",
   "metadata": {},
   "source": [
    "`Cuándo usarlas:` Cuando necesitas una colección de elementos que puedan cambiar (agregar, eliminar o modificar elementos)"
   ]
  },
  {
   "cell_type": "markdown",
   "id": "4b3efc1f-9982-4c07-8848-d6acfc64bdf9",
   "metadata": {},
   "source": [
    "### TUPLAS:"
   ]
  },
  {
   "cell_type": "markdown",
   "id": "7c1fefc9-de0c-4711-b729-d16c798077c4",
   "metadata": {},
   "source": [
    "Una tupla es similar a una lista, pero es inmutable, lo que significa que no se puede modificar después de ser creada."
   ]
  },
  {
   "cell_type": "code",
   "execution_count": 6,
   "id": "c3a2b3bc-023d-4e8f-957e-35bf831efad5",
   "metadata": {},
   "outputs": [],
   "source": [
    "coordenadas = (10.5, 20.3)\n",
    "\n",
    "dias_semana = (\"Lunes\", \"Martes\", \"Miércoles\")"
   ]
  },
  {
   "cell_type": "markdown",
   "id": "39e72824-7d1b-48d0-aa3b-8fdbfa7824eb",
   "metadata": {},
   "source": [
    "`Cuándo usarlas:` Cuando necesitas almacenar datos que no deben cambiar, como coordenadas geográficas o nombres de días."
   ]
  },
  {
   "cell_type": "markdown",
   "id": "411d3e19-c27b-4497-a39e-58b425a315cc",
   "metadata": {},
   "source": [
    "### DICCIONARIOS:"
   ]
  },
  {
   "cell_type": "markdown",
   "id": "e144d271-2b1a-41a9-a270-aae93ccc3ef6",
   "metadata": {},
   "source": [
    "Un diccionario es una colección de pares clave-valor. Las claves son únicas y se usan para acceder a los valores asociados."
   ]
  },
  {
   "cell_type": "code",
   "execution_count": 7,
   "id": "2809e991-8003-4cf1-a9c7-e46c40dc320e",
   "metadata": {},
   "outputs": [],
   "source": [
    "estudiante = {\"nombre\": \"Ana\", \"edad\": 20, \"carrera\": \"Ingeniería\"}"
   ]
  },
  {
   "cell_type": "markdown",
   "id": "97e4dfa6-f0b4-4a5f-b7ab-da717de792f3",
   "metadata": {},
   "source": [
    "`Cuándo usarlos:` Cuando necesitas asociar datos específicos (valores) con identificadores únicos (claves), como propiedades de un objeto."
   ]
  },
  {
   "cell_type": "markdown",
   "id": "dc72de4d-aaa3-4168-94c1-718e3e758435",
   "metadata": {},
   "source": [
    "### CONJUNTOS:"
   ]
  },
  {
   "cell_type": "markdown",
   "id": "7ba2a9e3-4522-4427-9a4b-dd086530af2b",
   "metadata": {},
   "source": [
    "Un conjunto es una colección desordenada de elementos únicos. No permite duplicados."
   ]
  },
  {
   "cell_type": "code",
   "execution_count": 8,
   "id": "bb38500a-cb5a-4a62-bf47-d5837c3ad0cf",
   "metadata": {},
   "outputs": [],
   "source": [
    "numeros_unicos = {1,2,3,4}"
   ]
  },
  {
   "cell_type": "markdown",
   "id": "52c9e443-44c6-4c5a-9912-129930135112",
   "metadata": {},
   "source": [
    "`Cuándo usarlos:` Cuando necesitas eliminar duplicados o realizar operaciones matemáticas con uniones e intersecciones."
   ]
  },
  {
   "cell_type": "markdown",
   "id": "b79eeafa-29a4-4c9f-9377-72261d221a7c",
   "metadata": {},
   "source": [
    "### DATAFRAMES (PANDAS):"
   ]
  },
  {
   "cell_type": "markdown",
   "id": "659b847b-d4c6-46dc-8ee5-294060084823",
   "metadata": {},
   "source": [
    "Aunque no es una estructura incorporada en Python, los DataFrames son ampliamente utilizados en el análisis de datos. Son tablas bidimensionales donde cada columna puede contener un tipo de dato diferente."
   ]
  },
  {
   "cell_type": "code",
   "execution_count": 9,
   "id": "f06e579e-2891-4745-9b28-5d37d2e8e073",
   "metadata": {},
   "outputs": [
    {
     "name": "stdout",
     "output_type": "stream",
     "text": [
      "   nombre  edad     carrera\n",
      "0     Ana    20  Ingeniería\n",
      "1    Luis    22    Medicina\n",
      "2  Carlos    19     Derecho\n"
     ]
    }
   ],
   "source": [
    "import pandas as pd\n",
    "\n",
    "datos = {\n",
    "    \"nombre\": [\"Ana\", \"Luis\", \"Carlos\"],\n",
    "    \"edad\": [20,22,19],\n",
    "    \"carrera\": [\"Ingeniería\", \" Medicina\", \"Derecho\"]\n",
    "}\n",
    "df = pd.DataFrame(datos)\n",
    "print(df)"
   ]
  },
  {
   "cell_type": "markdown",
   "id": "82eac3dc-7399-47f8-9852-fbf0e7c97843",
   "metadata": {},
   "source": [
    "`Cuándo usarlos:` Cuando trabajas con grandes conjuntos de datos tabulares, como hojas de cálculo o bases de datos."
   ]
  },
  {
   "cell_type": "code",
   "execution_count": null,
   "id": "8304b67b-bd51-4be3-a9e5-47e9e551650f",
   "metadata": {},
   "outputs": [],
   "source": []
  }
 ],
 "metadata": {
  "kernelspec": {
   "display_name": "Python [conda env:base] *",
   "language": "python",
   "name": "conda-base-py"
  },
  "language_info": {
   "codemirror_mode": {
    "name": "ipython",
    "version": 3
   },
   "file_extension": ".py",
   "mimetype": "text/x-python",
   "name": "python",
   "nbconvert_exporter": "python",
   "pygments_lexer": "ipython3",
   "version": "3.12.7"
  }
 },
 "nbformat": 4,
 "nbformat_minor": 5
}
