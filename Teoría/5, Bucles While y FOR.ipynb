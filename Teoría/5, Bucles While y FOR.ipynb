{
 "cells": [
  {
   "cell_type": "markdown",
   "id": "44023ccd-ede2-4115-bd66-006e3c5ed630",
   "metadata": {},
   "source": [
    "# BUCLES WHILE:"
   ]
  },
  {
   "cell_type": "markdown",
   "id": "05e63a34-80d3-4493-bc64-4bafb9cef113",
   "metadata": {},
   "source": [
    "- Repite el código mientras la condición sea True, osea se parará cuando la condición sea False.\n",
    "- Se pueden incluir condiciones con if...elif...else.\n",
    "- Pueden ser infinitos (si la condición no llega a ser false)<br><br>\n",
    "Es útil cuando necesitas ejecutar un código hasta que una condición específica cambie."
   ]
  },
  {
   "cell_type": "code",
   "execution_count": 1,
   "id": "69179add-560e-4d35-88f6-6755d47d764f",
   "metadata": {},
   "outputs": [
    {
     "name": "stdout",
     "output_type": "stream",
     "text": [
      "1\n",
      "2\n",
      "3\n",
      "4\n",
      "5\n",
      "6\n",
      "7\n",
      "8\n",
      "9\n",
      "10\n"
     ]
    }
   ],
   "source": [
    "i=0\n",
    "while i<=9:\n",
    "    i+=1\n",
    "    print(i)"
   ]
  },
  {
   "cell_type": "code",
   "execution_count": 7,
   "id": "b885ba33-bec7-4530-a2d6-02be7b0f3e98",
   "metadata": {},
   "outputs": [
    {
     "name": "stdin",
     "output_type": "stream",
     "text": [
      "Elige una fruta para tu desayuno:\n",
      "    1- Manzanas\n",
      "    2- Bananas\n",
      "    3- Nada\n",
      "     4\n",
      "Elige una fruta para tu desayuno:\n",
      "    1- Manzanas\n",
      "    2- Bananas\n",
      "    3- Nada\n",
      "     1\n"
     ]
    },
    {
     "name": "stdout",
     "output_type": "stream",
     "text": [
      "Has seleccionado manzanas.\n",
      "Programa terminado, disfruta de tu desayuno.\n"
     ]
    }
   ],
   "source": [
    "while True:\n",
    "    opcion = input(\"\"\"Elige una fruta para tu desayuno:\n",
    "    1- Manzanas\n",
    "    2- Bananas\n",
    "    3- Nada\n",
    "    \"\"\")\n",
    "    if opcion == '1':\n",
    "        print(f'Has seleccionado manzanas.')\n",
    "        break\n",
    "    elif opcion == '2':\n",
    "        print(f'Has seleccionado bananas.')\n",
    "        break\n",
    "    elif opcion == '3':\n",
    "        print(f'No has seleccionado nada.')\n",
    "        break\n",
    "    else: (f'Debes seleccionar una opción válida.')\n",
    "\n",
    "print(f'Programa terminado, disfruta de tu desayuno.')"
   ]
  },
  {
   "cell_type": "markdown",
   "id": "3f2b9de0-7015-4490-a124-daf173cca4e5",
   "metadata": {},
   "source": [
    "# BUCLES FOR:"
   ]
  },
  {
   "cell_type": "markdown",
   "id": "1a98465b-47fd-401f-b1e7-dad83eb1b9e8",
   "metadata": {},
   "source": [
    "- Sirven para iterar por todos los elementos de una variable que tiene que ser un iterable.\n",
    "- Se pueden combinar con if...elif...else, while u otro bucle for.\n",
    "- En diccionarios por defecto itera por las keys; podemos usar dicc.values() para acceder a los values.<br><br>\n",
    "Ideal para recorrer colecciones con un número fijo de elementos."
   ]
  },
  {
   "cell_type": "code",
   "execution_count": 8,
   "id": "2becd938-4fce-4662-bdaa-b8d3b7592d81",
   "metadata": {},
   "outputs": [
    {
     "name": "stdout",
     "output_type": "stream",
     "text": [
      "2\n",
      "4\n",
      "6\n",
      "8\n",
      "10\n",
      "12\n",
      "14\n"
     ]
    }
   ],
   "source": [
    "numeros = [1, 2, 3, 4, 5, 6, 7, 8, 9, 10, 11, 12, 13, 14]\n",
    "for num in numeros: \n",
    "    if num % 2 == 0: \n",
    "        print(num)"
   ]
  },
  {
   "cell_type": "code",
   "execution_count": 9,
   "id": "ae75ada3-9ee3-4cd4-8ec1-28518cff18c6",
   "metadata": {},
   "outputs": [
    {
     "name": "stdout",
     "output_type": "stream",
     "text": [
      "1\n",
      "3\n",
      "5\n",
      "7\n",
      "9\n",
      "11\n",
      "13\n"
     ]
    }
   ],
   "source": [
    "numeros = [1, 2, 3, 4, 5, 6, 7, 8, 9, 10, 11, 12, 13, 14]\n",
    "for num in numeros: \n",
    "    if num % 2 != 0: \n",
    "        print(num)"
   ]
  },
  {
   "cell_type": "code",
   "execution_count": 10,
   "id": "2d5a13ba-f208-4d18-85d5-3eef76cdacca",
   "metadata": {},
   "outputs": [
    {
     "name": "stdout",
     "output_type": "stream",
     "text": [
      "a : 3\n"
     ]
    }
   ],
   "source": [
    "entrada = \"hola estoy programando en python\" \n",
    "contador = 0\n",
    "cuentalaletra = 'a' \n",
    "for letra in entrada: \n",
    "    if letra == cuentalaletra: \n",
    "        contador += 1 \n",
    "print(cuentalaletra, ':', contador)"
   ]
  },
  {
   "cell_type": "code",
   "execution_count": null,
   "id": "376333c7-8176-46ac-b8ad-e20418b55563",
   "metadata": {},
   "outputs": [],
   "source": []
  }
 ],
 "metadata": {
  "kernelspec": {
   "display_name": "Python [conda env:base] *",
   "language": "python",
   "name": "conda-base-py"
  },
  "language_info": {
   "codemirror_mode": {
    "name": "ipython",
    "version": 3
   },
   "file_extension": ".py",
   "mimetype": "text/x-python",
   "name": "python",
   "nbconvert_exporter": "python",
   "pygments_lexer": "ipython3",
   "version": "3.12.7"
  }
 },
 "nbformat": 4,
 "nbformat_minor": 5
}
