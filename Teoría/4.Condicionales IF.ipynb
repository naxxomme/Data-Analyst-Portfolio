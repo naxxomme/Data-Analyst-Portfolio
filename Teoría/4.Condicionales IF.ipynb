{
 "cells": [
  {
   "cell_type": "markdown",
   "id": "2d857c3a-97f1-4d18-932b-706cb1a93f88",
   "metadata": {},
   "source": [
    "# CONDICIONALES IF, ELIF, ELSE:"
   ]
  },
  {
   "cell_type": "markdown",
   "id": "aef63cef-2702-44f5-b0ce-2873ea88c424",
   "metadata": {},
   "source": [
    "`if...elif...else`<br>\n",
    "- `if`: establece una condición para que se ejecute el código que está debajo del if.\n",
    "- `elif`: para comprobar más condiciones después de un if.\n",
    "- `else`: agrupa las condiciones que no se han cumplido; no puede llevar condiciones nuevas."
   ]
  },
  {
   "cell_type": "code",
   "execution_count": 2,
   "id": "c07a2269-be3b-49a4-8e7d-c403b2f6a821",
   "metadata": {},
   "outputs": [
    {
     "name": "stdout",
     "output_type": "stream",
     "text": [
      "A es igual a cuatro.\n"
     ]
    }
   ],
   "source": [
    "a = 2+2\n",
    "if a == 4:\n",
    "    print(f'A es igual a cuatro.')"
   ]
  },
  {
   "cell_type": "code",
   "execution_count": 3,
   "id": "8c5ce15f-0694-4e29-8bd1-b896656bbffd",
   "metadata": {},
   "outputs": [
    {
     "name": "stdout",
     "output_type": "stream",
     "text": [
      "A no es igual a cuatro.\n"
     ]
    }
   ],
   "source": [
    "a = 2+3\n",
    "if a == 4:\n",
    "    print(f'A es igual a cuatro.')\n",
    "else:\n",
    "    print(f'A no es igual a cuatro.')"
   ]
  },
  {
   "cell_type": "code",
   "execution_count": 4,
   "id": "39cd0400-edf3-4712-b626-2a81d74e07c8",
   "metadata": {},
   "outputs": [
    {
     "name": "stdout",
     "output_type": "stream",
     "text": [
      "A es igual a cinco.\n"
     ]
    }
   ],
   "source": [
    "a = 2+3\n",
    "if a == 4:\n",
    "    print(f'A es igual a cuatro.')\n",
    "elif a == 5:\n",
    "    print(f'A es igual a cinco.')\n",
    "else:\n",
    "    print(f'A no es igual a la condición.')"
   ]
  },
  {
   "cell_type": "code",
   "execution_count": 7,
   "id": "a283ff4b-fa63-4eef-acf9-bce206150c9c",
   "metadata": {},
   "outputs": [
    {
     "name": "stdout",
     "output_type": "stream",
     "text": [
      "Has comprado un libro.\n",
      "Tu dinero restante es 80.\n"
     ]
    }
   ],
   "source": [
    "dinero_comprador = 100\n",
    "\n",
    "if dinero_comprador >= 20:\n",
    "    print(f'Has comprado un libro.')\n",
    "    dinero_comprador-=20\n",
    "    print(f'Tu dinero restante es {dinero_comprador}.')\n",
    "else:\n",
    "    print(f'No tiene el dinero necesario.')"
   ]
  },
  {
   "cell_type": "code",
   "execution_count": 8,
   "id": "6b59b3ae-f3dd-4cc4-9ff0-05d34e3a1735",
   "metadata": {},
   "outputs": [
    {
     "name": "stdout",
     "output_type": "stream",
     "text": [
      "Mariano ha sido añadido a la lista.\n",
      "Lista actualizada: ['Ana', 'Luis', 'Carlos', 'Mariano']\n"
     ]
    }
   ],
   "source": [
    "alumnos = [\"Ana\", \"Luis\", \"Carlos\"]\n",
    "\n",
    "nombre = \"Mariano\"\n",
    "\n",
    "if nombre in alumnos:\n",
    "    print(f'{nombre} ya está inscrito.')\n",
    "else:\n",
    "    alumnos.append(nombre)\n",
    "    print(f'{nombre} ha sido añadido a la lista.')\n",
    "print(f'Lista actualizada: {alumnos}')"
   ]
  },
  {
   "cell_type": "code",
   "execution_count": 9,
   "id": "877183dd-fa2f-4ed0-ab4b-89858015dec5",
   "metadata": {},
   "outputs": [
    {
     "name": "stdout",
     "output_type": "stream",
     "text": [
      "El número 3 está en la lista.\n"
     ]
    }
   ],
   "source": [
    "numeros = [1,2,3,4,5]\n",
    "\n",
    "numero = 3\n",
    "\n",
    "if numero in numeros:\n",
    "    print(f'El número {numero} está en la lista.')\n",
    "else:\n",
    "    print(f'El número {numero} no está en la lista.')"
   ]
  },
  {
   "cell_type": "code",
   "execution_count": null,
   "id": "066ca2d2-6c91-471f-9582-1287d8e760cb",
   "metadata": {},
   "outputs": [],
   "source": []
  }
 ],
 "metadata": {
  "kernelspec": {
   "display_name": "Python [conda env:base] *",
   "language": "python",
   "name": "conda-base-py"
  },
  "language_info": {
   "codemirror_mode": {
    "name": "ipython",
    "version": 3
   },
   "file_extension": ".py",
   "mimetype": "text/x-python",
   "name": "python",
   "nbconvert_exporter": "python",
   "pygments_lexer": "ipython3",
   "version": "3.12.7"
  }
 },
 "nbformat": 4,
 "nbformat_minor": 5
}
