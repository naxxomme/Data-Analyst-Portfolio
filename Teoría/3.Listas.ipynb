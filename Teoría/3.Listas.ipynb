{
 "cells": [
  {
   "cell_type": "markdown",
   "id": "a2c2b370-2d8a-435b-bfba-d932a8431e22",
   "metadata": {},
   "source": [
    "# LISTAS:"
   ]
  },
  {
   "cell_type": "code",
   "execution_count": 1,
   "id": "b97e1d28-6e48-4783-a06c-e688ef494705",
   "metadata": {},
   "outputs": [
    {
     "data": {
      "text/plain": [
       "['Carbón', 'Oro', 'Leña']"
      ]
     },
     "execution_count": 1,
     "metadata": {},
     "output_type": "execute_result"
    }
   ],
   "source": [
    "tren = [\"Carbón\", \"Oro\", \"Leña\"]\n",
    "tren"
   ]
  },
  {
   "cell_type": "markdown",
   "id": "6a631c57-0cf6-4092-9a77-e08a25768ee7",
   "metadata": {},
   "source": [
    "### MÉTODOS PERMANENTES:"
   ]
  },
  {
   "cell_type": "code",
   "execution_count": 3,
   "id": "dc867f72-f59b-40b1-8c0f-a17c90e14e79",
   "metadata": {},
   "outputs": [
    {
     "name": "stdout",
     "output_type": "stream",
     "text": [
      "[['Carbón', 'Oro', 'Leña'], ['Plata', 'Mercurio', 'Hierro']]\n"
     ]
    },
    {
     "data": {
      "text/plain": [
       "['Carbón', 'Oro', 'Leña', 'Plata', 'Mercurio', 'Hierro']"
      ]
     },
     "execution_count": 3,
     "metadata": {},
     "output_type": "execute_result"
    }
   ],
   "source": [
    "# Ampliar una lista\n",
    "\n",
    "tren2 = [\"Plata\", \"Mercurio\", \"Hierro\"]\n",
    "\n",
    "tren_completo = [tren, tren2] # Con este método juntas listas pero se mantienen como listas separadas.\n",
    "print(tren_completo)\n",
    "\n",
    "tren_completo = tren + tren2 # Con este método haces una lista más larga\n",
    "tren_completo"
   ]
  },
  {
   "cell_type": "code",
   "execution_count": 4,
   "id": "4b318bf0-a903-43c9-876a-e04bd613db39",
   "metadata": {},
   "outputs": [
    {
     "data": {
      "text/plain": [
       "['Carbón', 'Oro', 'Leña', 'Plata', 'Mercurio', 'Hierro', 'Diamante']"
      ]
     },
     "execution_count": 4,
     "metadata": {},
     "output_type": "execute_result"
    }
   ],
   "source": [
    "# .append() -> Añade un solo elemento al final de la lista \n",
    "\n",
    "tren_completo.append(\"Diamante\")\n",
    "tren_completo"
   ]
  },
  {
   "cell_type": "code",
   "execution_count": 5,
   "id": "8c48d15c-3f33-4379-935b-57a0be972811",
   "metadata": {},
   "outputs": [
    {
     "name": "stdout",
     "output_type": "stream",
     "text": [
      "['Espada', 'Katana', 'Carabina']\n"
     ]
    },
    {
     "data": {
      "text/plain": [
       "['Espada', 'Katana', 'Carabina', 'Colt 45', 'Desert Eagle', 'Ghost']"
      ]
     },
     "execution_count": 5,
     "metadata": {},
     "output_type": "execute_result"
    }
   ],
   "source": [
    "# .extend() -> Añade los elementos de una lista al final de la lista\n",
    "\n",
    "armas = [\"Espada\", \"Katana\", \"Carabina\"]\n",
    "pistolas = [\"Colt 45\", \"Desert Eagle\", \"Ghost\"]\n",
    "\n",
    "print(armas)\n",
    "armas.extend(pistolas)\n",
    "armas"
   ]
  },
  {
   "cell_type": "code",
   "execution_count": 6,
   "id": "8d27190a-60c4-4369-992e-224522460fc7",
   "metadata": {},
   "outputs": [
    {
     "data": {
      "text/plain": [
       "['Espada',\n",
       " 'Katana',\n",
       " 'Operator',\n",
       " 'Carabina',\n",
       " 'Colt 45',\n",
       " 'Desert Eagle',\n",
       " 'Ghost']"
      ]
     },
     "execution_count": 6,
     "metadata": {},
     "output_type": "execute_result"
    }
   ],
   "source": [
    "# insert(i,x) -> Mete un elemento (x) en un índice (i)\n",
    "\n",
    "armas.insert(2, \"Operator\")\n",
    "armas"
   ]
  },
  {
   "cell_type": "code",
   "execution_count": 7,
   "id": "4130ab65-24b0-48fa-9629-a34d7651ba0b",
   "metadata": {},
   "outputs": [
    {
     "name": "stdout",
     "output_type": "stream",
     "text": [
      "['Carabina', 'Colt 45', 'Desert Eagle', 'Espada', 'Ghost', 'Katana', 'Operator']\n"
     ]
    },
    {
     "data": {
      "text/plain": [
       "['Operator',\n",
       " 'Katana',\n",
       " 'Ghost',\n",
       " 'Espada',\n",
       " 'Desert Eagle',\n",
       " 'Colt 45',\n",
       " 'Carabina']"
      ]
     },
     "execution_count": 7,
     "metadata": {},
     "output_type": "execute_result"
    }
   ],
   "source": [
    "# .sort() -> Ordena los elementos de menor a mayor, si se usa con (reverse=True) se ordena de mayor a menor.\n",
    "\n",
    "armas.sort()\n",
    "print(armas)\n",
    "armas.sort(reverse=True)\n",
    "armas"
   ]
  },
  {
   "cell_type": "code",
   "execution_count": 8,
   "id": "21fe8b9a-2c55-4103-94d3-7e9c3b844883",
   "metadata": {},
   "outputs": [
    {
     "data": {
      "text/plain": [
       "['Carabina',\n",
       " 'Colt 45',\n",
       " 'Desert Eagle',\n",
       " 'Espada',\n",
       " 'Ghost',\n",
       " 'Katana',\n",
       " 'Operator']"
      ]
     },
     "execution_count": 8,
     "metadata": {},
     "output_type": "execute_result"
    }
   ],
   "source": [
    "# .reverse() -> Ordena los elementos al revés del orden guardado.\n",
    "\n",
    "armas.reverse()\n",
    "armas"
   ]
  },
  {
   "cell_type": "code",
   "execution_count": 9,
   "id": "1a5d91e3-78be-4ff8-80d7-402699b18cc3",
   "metadata": {},
   "outputs": [
    {
     "data": {
      "text/plain": [
       "['Colt 45', 'Desert Eagle', 'Espada', 'Ghost', 'Katana', 'Operator']"
      ]
     },
     "execution_count": 9,
     "metadata": {},
     "output_type": "execute_result"
    }
   ],
   "source": [
    "# .pop(i) -> Quita el elemento en índice i y devuelve su valor.\n",
    "\n",
    "armas.pop(0)\n",
    "armas"
   ]
  },
  {
   "cell_type": "code",
   "execution_count": 10,
   "id": "74dd0d0c-7e76-4130-8de0-77014713cb77",
   "metadata": {},
   "outputs": [
    {
     "data": {
      "text/plain": [
       "['Desert Eagle', 'Espada', 'Ghost', 'Katana', 'Operator']"
      ]
     },
     "execution_count": 10,
     "metadata": {},
     "output_type": "execute_result"
    }
   ],
   "source": [
    "# .remove(x) -> Quita el primer elemento de la lista con valor x.\n",
    "\n",
    "armas.remove(\"Colt 45\")\n",
    "armas"
   ]
  },
  {
   "cell_type": "code",
   "execution_count": 11,
   "id": "2a3e8893-d35f-416b-b42a-40475f410f80",
   "metadata": {},
   "outputs": [
    {
     "data": {
      "text/plain": [
       "[]"
      ]
     },
     "execution_count": 11,
     "metadata": {},
     "output_type": "execute_result"
    }
   ],
   "source": [
    "# clear() -> Vacía la lista.\n",
    "armas.clear()\n",
    "armas"
   ]
  },
  {
   "cell_type": "code",
   "execution_count": 12,
   "id": "e78d20c4-3ac6-4233-bb20-ab0009b89fa1",
   "metadata": {},
   "outputs": [
    {
     "ename": "NameError",
     "evalue": "name 'tren' is not defined",
     "output_type": "error",
     "traceback": [
      "\u001b[1;31m---------------------------------------------------------------------------\u001b[0m",
      "\u001b[1;31mNameError\u001b[0m                                 Traceback (most recent call last)",
      "Cell \u001b[1;32mIn[12], line 3\u001b[0m\n\u001b[0;32m      1\u001b[0m \u001b[38;5;66;03m# del lista -> Borra la lista\u001b[39;00m\n\u001b[0;32m      2\u001b[0m \u001b[38;5;28;01mdel\u001b[39;00m tren\n\u001b[1;32m----> 3\u001b[0m tren\n",
      "\u001b[1;31mNameError\u001b[0m: name 'tren' is not defined"
     ]
    }
   ],
   "source": [
    "# del lista -> Borra la lista\n",
    "del tren\n",
    "tren"
   ]
  },
  {
   "cell_type": "code",
   "execution_count": 13,
   "id": "f5b397a2-0a25-46cf-a255-1a1f730b20a1",
   "metadata": {},
   "outputs": [
    {
     "name": "stdout",
     "output_type": "stream",
     "text": [
      "['Carbón', 'Oro', 'Leña', 'Plata', 'Mercurio', 'Hierro', 'Diamante']\n"
     ]
    },
    {
     "data": {
      "text/plain": [
       "['Carbón', 'Leña', 'Plata', 'Mercurio', 'Hierro', 'Diamante']"
      ]
     },
     "execution_count": 13,
     "metadata": {},
     "output_type": "execute_result"
    }
   ],
   "source": [
    "# del lista[i] -> Borra el elemento en índice i.\n",
    "print(tren_completo)\n",
    "del tren_completo[1]\n",
    "tren_completo"
   ]
  },
  {
   "cell_type": "markdown",
   "id": "fddd1545-8111-426d-84be-1dd45fde627b",
   "metadata": {},
   "source": [
    "### MÉTODOS NO PERMANENTES:"
   ]
  },
  {
   "cell_type": "code",
   "execution_count": 14,
   "id": "38ff2c55-dd00-4f97-845f-74636e7161fd",
   "metadata": {},
   "outputs": [
    {
     "data": {
      "text/plain": [
       "6"
      ]
     },
     "execution_count": 14,
     "metadata": {},
     "output_type": "execute_result"
    }
   ],
   "source": [
    "# len(lista) -> Devuelve el número de elementos.\n",
    "\n",
    "len(tren_completo)"
   ]
  },
  {
   "cell_type": "code",
   "execution_count": 17,
   "id": "1fb43b0d-6f7b-46d4-a724-6e2b7b80f58c",
   "metadata": {},
   "outputs": [
    {
     "name": "stdout",
     "output_type": "stream",
     "text": [
      "Carbón\n"
     ]
    },
    {
     "data": {
      "text/plain": [
       "'Plata'"
      ]
     },
     "execution_count": 17,
     "metadata": {},
     "output_type": "execute_result"
    }
   ],
   "source": [
    "# min(lista/max(lista)) -> Saca el valor máximo y el valor mínimo\n",
    "\n",
    "print(min(tren_completo))\n",
    "max(tren_completo)"
   ]
  },
  {
   "cell_type": "code",
   "execution_count": 19,
   "id": "5cb68a1b-e4b1-4238-bed8-b84bd23ffdc9",
   "metadata": {},
   "outputs": [
    {
     "data": {
      "text/plain": [
       "1"
      ]
     },
     "execution_count": 19,
     "metadata": {},
     "output_type": "execute_result"
    }
   ],
   "source": [
    "# lista.count() -> Devuelve el número de elementos que hay en la lista con un valor determinado.\n",
    "\n",
    "tren_completo.count(\"Plata\")"
   ]
  },
  {
   "cell_type": "code",
   "execution_count": 20,
   "id": "7687df22-abd8-4291-aab5-b31183f81665",
   "metadata": {},
   "outputs": [
    {
     "data": {
      "text/plain": [
       "['Carbón', 'Diamante', 'Hierro', 'Leña', 'Mercurio', 'Plata']"
      ]
     },
     "execution_count": 20,
     "metadata": {},
     "output_type": "execute_result"
    }
   ],
   "source": [
    "# sorted(lista) -> Ordenar una lista de menor a mayor.\n",
    "\n",
    "sorted(tren_completo)"
   ]
  },
  {
   "cell_type": "code",
   "execution_count": 21,
   "id": "54707d1f-5fcb-4ba8-9ff3-aa04c55526d6",
   "metadata": {},
   "outputs": [
    {
     "data": {
      "text/plain": [
       "['Carbón', 'Leña', 'Plata', 'Mercurio', 'Hierro', 'Diamante']"
      ]
     },
     "execution_count": 21,
     "metadata": {},
     "output_type": "execute_result"
    }
   ],
   "source": [
    "# lista.copy() -> Hace una copia de la lista.\n",
    "\n",
    "tren_completo.copy()"
   ]
  },
  {
   "cell_type": "markdown",
   "id": "e584ec26-1cf5-45fd-b22f-f048766d1c71",
   "metadata": {},
   "source": [
    "### MÉTODOS CON ÍNDICES:"
   ]
  },
  {
   "cell_type": "code",
   "execution_count": 29,
   "id": "64d26ed3-00df-45d6-bf2b-440df8b231c1",
   "metadata": {},
   "outputs": [
    {
     "name": "stdout",
     "output_type": "stream",
     "text": [
      "['Carbón', 'Leña', 'Plata', 'Mercurio', 'Hierro', 'Diamante']\n"
     ]
    },
    {
     "data": {
      "text/plain": [
       "1"
      ]
     },
     "execution_count": 29,
     "metadata": {},
     "output_type": "execute_result"
    }
   ],
   "source": [
    "# list.index(x) -> devuelve el índice de x en la lista.\n",
    "\n",
    "print(tren_completo)\n",
    "tren_completo.index(\"Leña\")"
   ]
  },
  {
   "cell_type": "code",
   "execution_count": 30,
   "id": "b8092637-03da-4233-af34-f78bfaa26566",
   "metadata": {},
   "outputs": [
    {
     "name": "stdout",
     "output_type": "stream",
     "text": [
      "['Carbón', 'Leña', 'Plata', 'Mercurio', 'Hierro', 'Diamante']\n"
     ]
    },
    {
     "data": {
      "text/plain": [
       "'Plata'"
      ]
     },
     "execution_count": 30,
     "metadata": {},
     "output_type": "execute_result"
    }
   ],
   "source": [
    "# lista[i] -> Devuelve el elemento en el índice i\n",
    "\n",
    "print(tren_completo)\n",
    "tren_completo[2]"
   ]
  },
  {
   "cell_type": "code",
   "execution_count": 31,
   "id": "775ba653-6999-4f87-b9ea-b23c056caf1f",
   "metadata": {},
   "outputs": [
    {
     "name": "stdout",
     "output_type": "stream",
     "text": [
      "['Carbón', 'Leña', 'Plata', 'Mercurio', 'Hierro', 'Diamante']\n"
     ]
    },
    {
     "data": {
      "text/plain": [
       "['Carbón', 'Plata']"
      ]
     },
     "execution_count": 31,
     "metadata": {},
     "output_type": "execute_result"
    }
   ],
   "source": [
    "# lista[start:stop:step] -> Devuelve los elementos por el rango de start a stop (incluye start pero no stop) saltando por step\n",
    "\n",
    "print(tren_completo)\n",
    "tren_completo[0:4:2]"
   ]
  },
  {
   "cell_type": "code",
   "execution_count": 41,
   "id": "0e147af1-c86e-4113-bea3-69531819edcc",
   "metadata": {},
   "outputs": [
    {
     "name": "stdout",
     "output_type": "stream",
     "text": [
      "['Carbón', 'Leña', 'Plata', 'Mercurio', 'Hierro', 'Diamante']\n"
     ]
    },
    {
     "data": {
      "text/plain": [
       "['Leña', 'Plata', 'Mercurio']"
      ]
     },
     "execution_count": 41,
     "metadata": {},
     "output_type": "execute_result"
    }
   ],
   "source": [
    "# lista[-i:-j] -> Devuelve los elementos por los índices negativos (incluye -i pero no -j)\n",
    "\n",
    "print(tren_completo)\n",
    "tren_completo[-5:-2]"
   ]
  },
  {
   "cell_type": "code",
   "execution_count": null,
   "id": "a0fbb28f-68f2-482f-976b-25569f9cf4eb",
   "metadata": {},
   "outputs": [],
   "source": []
  }
 ],
 "metadata": {
  "kernelspec": {
   "display_name": "Python [conda env:base] *",
   "language": "python",
   "name": "conda-base-py"
  },
  "language_info": {
   "codemirror_mode": {
    "name": "ipython",
    "version": 3
   },
   "file_extension": ".py",
   "mimetype": "text/x-python",
   "name": "python",
   "nbconvert_exporter": "python",
   "pygments_lexer": "ipython3",
   "version": "3.12.7"
  }
 },
 "nbformat": 4,
 "nbformat_minor": 5
}
