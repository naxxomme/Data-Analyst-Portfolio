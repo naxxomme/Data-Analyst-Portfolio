{
 "cells": [
  {
   "cell_type": "markdown",
   "id": "00e904b9-5811-46fd-a49c-5721014c154c",
   "metadata": {},
   "source": [
    "# OPERADORES:"
   ]
  },
  {
   "cell_type": "markdown",
   "id": "ee2db4f6-fc79-4c51-a216-a6e5a5f8b2ab",
   "metadata": {},
   "source": [
    "### ARITMÉTICOS:"
   ]
  },
  {
   "cell_type": "markdown",
   "id": "4671a037-5f12-4650-acf5-5bf7076c583d",
   "metadata": {},
   "source": [
    "- `Suma`: +\n",
    "- `Resta`: -\n",
    "- `Multiplicación`: *\n",
    "- `División`: /\n",
    "- `Módulo (devuelve el resto)`: %\n",
    "- `Exponente`: **\n",
    "- `División entera`: //\n",
    "- `Redondeo`: round(x)"
   ]
  },
  {
   "cell_type": "markdown",
   "id": "901ff8a9-8c14-4f19-9326-86fb4a031b03",
   "metadata": {},
   "source": [
    "### DE COMPARACIÓN:"
   ]
  },
  {
   "cell_type": "markdown",
   "id": "21912d6e-0193-4622-976e-2069f49facf0",
   "metadata": {},
   "source": [
    "- `Igualdad`: ==\n",
    "- `Diferencia`: =!\n",
    "- `Mayor que`: >\n",
    "- `Menor que`: <\n",
    "- `Mayor o igual que`: >=\n",
    "- `Menor o igual que`: <="
   ]
  },
  {
   "cell_type": "markdown",
   "id": "f608aff7-1210-4cc1-8298-c76754b1167b",
   "metadata": {},
   "source": [
    "### DE ASIGNACIÓN:"
   ]
  },
  {
   "cell_type": "markdown",
   "id": "1047b042-c841-4e45-b78b-db949cfa14ac",
   "metadata": {},
   "source": [
    "- `Asignación básica`: =\n",
    "- `Suma`: +=\n",
    "- `Resta`: -=\n",
    "- `Multiplicación`: *=\n",
    "- `División`: /=\n",
    "- `Módulo (devuelve el resto)`: %=\n",
    "- `Exponente`: **=\n",
    "- `División entera`: //="
   ]
  },
  {
   "cell_type": "markdown",
   "id": "4ece1b63-3465-458d-89ad-514f48a7168a",
   "metadata": {},
   "source": [
    "### LÓGICOS:"
   ]
  },
  {
   "cell_type": "markdown",
   "id": "17e87cf1-b828-480c-a660-3617fcac5d5b",
   "metadata": {},
   "source": [
    "- `AND`: Devuelve True si todas las condiciones son verdaderas.\n",
    "- `OR`: Devuelve True si al menos una condición es verdadera.\n",
    "- `NOT`: Niega el valor booleano (True se convierte en False y viceversa)"
   ]
  },
  {
   "cell_type": "markdown",
   "id": "f29f521e-89ef-4faa-9349-ff79c015e8ed",
   "metadata": {},
   "source": [
    "### ESPECIALES:"
   ]
  },
  {
   "cell_type": "markdown",
   "id": "5666a1a4-c55a-43e4-a6b2-05e84b6f321d",
   "metadata": {},
   "source": [
    "- `in`: Devuelve True si un elemento está dentro de otro.\n",
    "- `not in`: Devuelve True si un elemento no está dentro de otro.\n",
    "- `is`: Devuelve True si dos elementos son exactamente iguales.\n",
    "- `is not`: Devuelve True si dos elementos no son exactamente iguales."
   ]
  },
  {
   "cell_type": "code",
   "execution_count": null,
   "id": "facf7f85-3815-418d-b10c-83abc7d1360d",
   "metadata": {},
   "outputs": [],
   "source": []
  }
 ],
 "metadata": {
  "kernelspec": {
   "display_name": "Python [conda env:base] *",
   "language": "python",
   "name": "conda-base-py"
  },
  "language_info": {
   "codemirror_mode": {
    "name": "ipython",
    "version": 3
   },
   "file_extension": ".py",
   "mimetype": "text/x-python",
   "name": "python",
   "nbconvert_exporter": "python",
   "pygments_lexer": "ipython3",
   "version": "3.12.7"
  }
 },
 "nbformat": 4,
 "nbformat_minor": 5
}
